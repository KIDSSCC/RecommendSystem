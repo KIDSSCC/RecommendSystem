{
 "cells": [
  {
   "cell_type": "code",
   "execution_count": 12,
   "id": "99e59fa6",
   "metadata": {},
   "outputs": [],
   "source": [
    "import time\n",
    "import random\n",
    "import numpy as np"
   ]
  },
  {
   "cell_type": "code",
   "execution_count": 13,
   "id": "14ca9c0d",
   "metadata": {},
   "outputs": [],
   "source": [
    "def load_data():\n",
    "    \"\"\"\n",
    "    加载文件，从data/train.txt中加载原始训练数据，统计原始训练数据中的相关信息，进行打印输出\n",
    "    形成字典sparse_matrix，sparse_matrix的键为用户编号，sparse_matrix的值为另一个字典rate_of_curruser\n",
    "    字典rate_of_curruser的键为物品的编号，值为当前用户对该物品的评分。\n",
    "    :return:sparse_matrix\n",
    "    \"\"\"\n",
    "    start_time=time.time()\n",
    "    train_path='data/train.txt'\n",
    "    users=[]\n",
    "    items=[]\n",
    "    rates=[]\n",
    "    with open(train_path,'r') as file:\n",
    "        top_line=file.readline()\n",
    "        sparse_matrix=dict()\n",
    "        while top_line:\n",
    "            user,nums=top_line.split('|')\n",
    "            user=int(user)\n",
    "            nums=int(nums)\n",
    "            users.append(user)\n",
    "            rate_of_curruser=dict()\n",
    "            for i in range(nums):\n",
    "                rate_line=file.readline()\n",
    "                item,rate=rate_line.split()\n",
    "                item=int(item)\n",
    "                rate=int(rate)\n",
    "                items.append(item)\n",
    "                rates.append(rate)\n",
    "                rate_of_curruser[item]=rate\n",
    "            sparse_matrix[user]=rate_of_curruser\n",
    "            top_line=file.readline()\n",
    "\n",
    "        # 数据统计输出\n",
    "        set_users = sorted(list(set(users)))\n",
    "        set_items = sorted(list(set(items)))\n",
    "        print('关于用户:')\n",
    "        print('实际的用户数量:{}'.format(len(set_users)))\n",
    "        print('用户的编号范围: {} 至 {}'.format(set_users[0],set_users[-1]))\n",
    "        print('关于物品:')\n",
    "        print('实际的物品数量:{}'.format(len(set_items)))\n",
    "        print('物品的编号范围: {} 至 {}'.format(set_items[0], set_items[-1]))\n",
    "        print('矩阵中的空闲率:{}'.format(1-len(items)/(len(set_items)*len(set_users))))\n",
    "        end_time=time.time()\n",
    "        print('加载原始数据，用时{}秒'.format(end_time-start_time))\n",
    "        return set_users,set_items,sparse_matrix\n"
   ]
  },
  {
   "cell_type": "code",
   "execution_count": 14,
   "id": "a14dc1b4",
   "metadata": {},
   "outputs": [],
   "source": [
    "def train_test_spilt(matrix,sample_rate=0.2):\n",
    "    \"\"\"\n",
    "\n",
    "    :param matrix:原始的训练数据字典\n",
    "    :param sample_rate:测试集划分比率，默认为20%\n",
    "    :return:训练集字典和测试集字典\n",
    "    \"\"\"\n",
    "    start_time=time.time()\n",
    "    train_data=dict()\n",
    "    test_data=dict()\n",
    "    for user,rate_dict in matrix.items():\n",
    "        sample_num=int(len(rate_dict)*sample_rate)\n",
    "\n",
    "        test_keys=random.sample(list(rate_dict),sample_num)\n",
    "        tmp_test_data={key:rate_dict[key] for key in test_keys}\n",
    "        tmp_train_data={key:rate_dict[key] for key in rate_dict if key not in test_keys}\n",
    "        train_data[user]=tmp_train_data\n",
    "        test_data[user]=tmp_test_data\n",
    "    end_time=time.time()\n",
    "    print('训练集数据划分，用时{}秒'.format(end_time-start_time))\n",
    "    return train_data,test_data"
   ]
  },
  {
   "cell_type": "code",
   "execution_count": 15,
   "id": "15684990",
   "metadata": {},
   "outputs": [],
   "source": [
    "class fit_model:\n",
    "\n",
    "    def __init__(self,train,set_users,set_items,k):\n",
    "        \"\"\"\n",
    "\n",
    "        :param train: 训练集\n",
    "        :param set_users: 用户集合\n",
    "        :param set_items: 物品集合\n",
    "        :param k: 超参数\n",
    "        \"\"\"\n",
    "        self.train=train\n",
    "        self.k=k\n",
    "        self.mean = get_mean_of_train(train)\n",
    "        self.bias_u = dict()\n",
    "        self.bias_i = dict()\n",
    "        self.pu = dict()\n",
    "        self.qi = dict()\n",
    "        self.item_hidden=np.zeros((set_items[-1]+1,self.k))\n",
    "        for user_no in set_users:\n",
    "            self.bias_u[user_no] = 0\n",
    "            self.pu[user_no] = np.random.rand(k)\n",
    "        for item_no in set_items:\n",
    "            self.bias_i[item_no] = 0\n",
    "            self.qi[item_no] = np.random.rand(k)\n",
    "\n",
    "        self.curr_mean_item=np.zeros((1,k))\n",
    "\n",
    "    def predict_score(self,user_no,item_no):\n",
    "        \"\"\"\n",
    "        预测当前用户对某一物品的评分\n",
    "        :param user_no: 用户编号\n",
    "        :param item_no: 物品编号\n",
    "        :return: 预测评分\n",
    "        \"\"\"\n",
    "        basic=self.mean+self.bias_u[user_no]+self.bias_i[item_no]\n",
    "        # 计算隐式反馈向量平均值res\n",
    "        items=self.train[user_no]\n",
    "        num_of_items=len(items)\n",
    "        avg=np.zeros((1,self.k))\n",
    "        if num_of_items==0:\n",
    "            res=avg+0.1\n",
    "        else:\n",
    "            item_list=[item for item,_ in items.items()]\n",
    "            avg=np.mean(self.item_hidden[item_list],axis=0)\n",
    "            res=avg/np.sqrt(num_of_items)\n",
    "        self.curr_mean_item=res\n",
    "        basic+=np.sum(self.qi[item_no]*(self.pu[user_no]+res))\n",
    "        return basic\n",
    "\n",
    "    def gradient_desc(self,user_no,item_no,error,lr,lamb):\n",
    "        self.bias_u[user_no] += lr * (error - lamb * self.bias_u[user_no])\n",
    "        self.bias_i[item_no] += lr * (error - lamb * self.bias_i[item_no])\n",
    "        old_pu = self.pu[user_no]\n",
    "        old_qi = self.qi[item_no]\n",
    "        self.pu[user_no] += lr * (error * old_qi - lamb * old_pu)\n",
    "        self.qi[item_no] += lr * (error * (old_pu+self.curr_mean_item[0]) - lamb * old_qi)\n",
    "        # 更新隐式向量列表\n",
    "        items=self.train[user_no]\n",
    "        sqrt_len=np.sqrt(len(items))\n",
    "        item_list=[item for item,_ in items.items()]\n",
    "        tmp_array=np.array([self.qi[no] for no in item_list])\n",
    "        self.item_hidden[item_list]+=lr*(error*tmp_array/sqrt_len-lamb*self.item_hidden[item_list])\n"
   ]
  },
  {
   "cell_type": "code",
   "execution_count": 16,
   "id": "b59d9ded",
   "metadata": {},
   "outputs": [],
   "source": [
    "def get_mean_of_train(train):\n",
    "    sum_rate=0\n",
    "    count=0\n",
    "    for user,items in train.items():\n",
    "        for item_no in items.keys():\n",
    "            sum_rate+=items[item_no]\n",
    "            count+=1\n",
    "    return sum_rate/count"
   ]
  },
  {
   "cell_type": "code",
   "execution_count": 17,
   "id": "c6685794",
   "metadata": {},
   "outputs": [],
   "source": [
    "def svdpp_eval(test,fit_model):\n",
    "    sum_error=0\n",
    "    count=0\n",
    "    for user_no,items in test.items():\n",
    "        for item_no,real_rate in items.items():\n",
    "            predict_rate=fit_model.predict_score(user_no,item_no)\n",
    "            sum_error+=(real_rate-predict_rate)**2\n",
    "            count+=1\n",
    "\n",
    "    return np.sqrt(sum_error/count)"
   ]
  },
  {
   "cell_type": "code",
   "execution_count": 18,
   "id": "ded13ceb",
   "metadata": {},
   "outputs": [],
   "source": [
    "def svdpp_train(train,test,set_users,set_items,n_epoch,lr,k,lamb):\n",
    "    \"\"\"\n",
    "\n",
    "    :param train: 训练集\n",
    "    :param test: 测试集\n",
    "    :param set_users: 用户集合，保存着所有的用户\n",
    "    :param set_items: 物品集合，保存着所有的物品\n",
    "    :param n_epoch: 训练批次\n",
    "    :param lr: 学习率\n",
    "    :param k: 超参数\n",
    "    :param lamb: 梯度下降参数\n",
    "    :return:训练得到的模型\n",
    "    \"\"\"\n",
    "    model=fit_model(train,set_users,set_items,k)\n",
    "    for epoch in range(n_epoch):\n",
    "        for user_no,items in train.items():\n",
    "            for item_no,real_rate in items.items():\n",
    "                predict_rate=model.predict_score(user_no,item_no)\n",
    "                error=real_rate-predict_rate\n",
    "                # 梯度下降\n",
    "                model.gradient_desc(user_no,item_no,error,lr,lamb)\n",
    "            if user_no %5==0:\n",
    "                print('user progress:[{}/{}]'.format(user_no, len(train)))\n",
    "        # 完成一轮迭代\n",
    "        rmse_in_train = svdpp_eval(train, model)\n",
    "        rmse_in_test = svdpp_eval(test, model)\n",
    "        print('epoch:[{}/{}],RMSE in train is :{} , and RMSE in test is {}'.format(epoch, n_epoch, rmse_in_train,\n",
    "                                                                                   rmse_in_test))\n"
   ]
  },
  {
   "cell_type": "code",
   "execution_count": 19,
   "id": "7b6198bc",
   "metadata": {},
   "outputs": [
    {
     "name": "stdout",
     "output_type": "stream",
     "text": [
      "关于用户:\n",
      "实际的用户数量:19835\n",
      "用户的编号范围: 0 至 19834\n",
      "关于物品:\n",
      "实际的物品数量:455705\n",
      "物品的编号范围: 0 至 624960\n",
      "矩阵中的空闲率:0.9994466691522359\n",
      "加载原始数据，用时9.357588768005371秒\n",
      "训练集数据划分，用时35.851792335510254秒\n"
     ]
    }
   ],
   "source": [
    "set_users,set_items,sparse_matrix=load_data()\n",
    "train,test=train_test_spilt(sparse_matrix)"
   ]
  },
  {
   "cell_type": "code",
   "execution_count": 20,
   "id": "3be99abe",
   "metadata": {},
   "outputs": [
    {
     "name": "stdout",
     "output_type": "stream",
     "text": [
      "user progress:[0/19835]\n",
      "user progress:[5/19835]\n",
      "user progress:[10/19835]\n",
      "user progress:[15/19835]\n",
      "user progress:[20/19835]\n",
      "user progress:[25/19835]\n",
      "user progress:[30/19835]\n",
      "user progress:[35/19835]\n",
      "user progress:[40/19835]\n",
      "user progress:[45/19835]\n",
      "user progress:[50/19835]\n",
      "user progress:[55/19835]\n",
      "user progress:[60/19835]\n",
      "user progress:[65/19835]\n",
      "user progress:[70/19835]\n",
      "user progress:[75/19835]\n",
      "user progress:[80/19835]\n",
      "user progress:[85/19835]\n",
      "user progress:[90/19835]\n",
      "user progress:[95/19835]\n",
      "user progress:[100/19835]\n",
      "user progress:[105/19835]\n",
      "user progress:[110/19835]\n",
      "user progress:[115/19835]\n",
      "user progress:[120/19835]\n",
      "user progress:[125/19835]\n",
      "user progress:[130/19835]\n",
      "user progress:[135/19835]\n",
      "user progress:[140/19835]\n",
      "user progress:[145/19835]\n",
      "user progress:[150/19835]\n",
      "user progress:[155/19835]\n",
      "user progress:[160/19835]\n",
      "user progress:[165/19835]\n",
      "user progress:[170/19835]\n",
      "user progress:[175/19835]\n",
      "user progress:[180/19835]\n",
      "user progress:[185/19835]\n",
      "user progress:[190/19835]\n",
      "user progress:[195/19835]\n",
      "user progress:[200/19835]\n",
      "user progress:[205/19835]\n",
      "user progress:[210/19835]\n",
      "user progress:[215/19835]\n",
      "user progress:[220/19835]\n",
      "user progress:[225/19835]\n",
      "user progress:[230/19835]\n",
      "user progress:[235/19835]\n",
      "user progress:[240/19835]\n",
      "user progress:[245/19835]\n",
      "user progress:[250/19835]\n",
      "user progress:[255/19835]\n",
      "user progress:[260/19835]\n",
      "user progress:[265/19835]\n",
      "user progress:[270/19835]\n",
      "user progress:[275/19835]\n",
      "user progress:[280/19835]\n",
      "user progress:[285/19835]\n",
      "user progress:[290/19835]\n",
      "user progress:[295/19835]\n",
      "user progress:[300/19835]\n",
      "user progress:[305/19835]\n",
      "user progress:[310/19835]\n",
      "user progress:[315/19835]\n",
      "user progress:[320/19835]\n",
      "user progress:[325/19835]\n",
      "user progress:[330/19835]\n",
      "user progress:[335/19835]\n",
      "user progress:[340/19835]\n",
      "user progress:[345/19835]\n"
     ]
    },
    {
     "ename": "KeyboardInterrupt",
     "evalue": "",
     "output_type": "error",
     "traceback": [
      "\u001b[1;31m---------------------------------------------------------------------------\u001b[0m",
      "\u001b[1;31mKeyboardInterrupt\u001b[0m                         Traceback (most recent call last)",
      "Cell \u001b[1;32mIn[20], line 1\u001b[0m\n\u001b[1;32m----> 1\u001b[0m \u001b[43msvdpp_train\u001b[49m\u001b[43m(\u001b[49m\u001b[43mtrain\u001b[49m\u001b[43m,\u001b[49m\u001b[43mtest\u001b[49m\u001b[43m,\u001b[49m\u001b[43mset_users\u001b[49m\u001b[43m,\u001b[49m\u001b[43mset_items\u001b[49m\u001b[43m,\u001b[49m\u001b[38;5;241;43m20\u001b[39;49m\u001b[43m,\u001b[49m\u001b[38;5;241;43m5e-4\u001b[39;49m\u001b[43m,\u001b[49m\u001b[38;5;241;43m3\u001b[39;49m\u001b[43m,\u001b[49m\u001b[38;5;241;43m0.02\u001b[39;49m\u001b[43m)\u001b[49m\n",
      "Cell \u001b[1;32mIn[18], line 21\u001b[0m, in \u001b[0;36msvdpp_train\u001b[1;34m(train, test, set_users, set_items, n_epoch, lr, k, lamb)\u001b[0m\n\u001b[0;32m     19\u001b[0m     error\u001b[38;5;241m=\u001b[39mreal_rate\u001b[38;5;241m-\u001b[39mpredict_rate\n\u001b[0;32m     20\u001b[0m     \u001b[38;5;66;03m# 梯度下降\u001b[39;00m\n\u001b[1;32m---> 21\u001b[0m     \u001b[43mmodel\u001b[49m\u001b[38;5;241;43m.\u001b[39;49m\u001b[43mgradient_desc\u001b[49m\u001b[43m(\u001b[49m\u001b[43muser_no\u001b[49m\u001b[43m,\u001b[49m\u001b[43mitem_no\u001b[49m\u001b[43m,\u001b[49m\u001b[43merror\u001b[49m\u001b[43m,\u001b[49m\u001b[43mlr\u001b[49m\u001b[43m,\u001b[49m\u001b[43mlamb\u001b[49m\u001b[43m)\u001b[49m\n\u001b[0;32m     22\u001b[0m \u001b[38;5;28;01mif\u001b[39;00m user_no \u001b[38;5;241m%\u001b[39m\u001b[38;5;241m5\u001b[39m\u001b[38;5;241m==\u001b[39m\u001b[38;5;241m0\u001b[39m:\n\u001b[0;32m     23\u001b[0m     \u001b[38;5;28mprint\u001b[39m(\u001b[38;5;124m'\u001b[39m\u001b[38;5;124muser progress:[\u001b[39m\u001b[38;5;132;01m{}\u001b[39;00m\u001b[38;5;124m/\u001b[39m\u001b[38;5;132;01m{}\u001b[39;00m\u001b[38;5;124m]\u001b[39m\u001b[38;5;124m'\u001b[39m\u001b[38;5;241m.\u001b[39mformat(user_no, \u001b[38;5;28mlen\u001b[39m(train)))\n",
      "Cell \u001b[1;32mIn[15], line 62\u001b[0m, in \u001b[0;36mfit_model.gradient_desc\u001b[1;34m(self, user_no, item_no, error, lr, lamb)\u001b[0m\n\u001b[0;32m     60\u001b[0m item_list\u001b[38;5;241m=\u001b[39m[item \u001b[38;5;28;01mfor\u001b[39;00m item,_ \u001b[38;5;129;01min\u001b[39;00m items\u001b[38;5;241m.\u001b[39mitems()]\n\u001b[0;32m     61\u001b[0m tmp_array\u001b[38;5;241m=\u001b[39mnp\u001b[38;5;241m.\u001b[39marray([\u001b[38;5;28mself\u001b[39m\u001b[38;5;241m.\u001b[39mqi[no] \u001b[38;5;28;01mfor\u001b[39;00m no \u001b[38;5;129;01min\u001b[39;00m item_list])\n\u001b[1;32m---> 62\u001b[0m \u001b[38;5;28mself\u001b[39m\u001b[38;5;241m.\u001b[39mitem_hidden[item_list]\u001b[38;5;241m+\u001b[39m\u001b[38;5;241m=\u001b[39mlr\u001b[38;5;241m*\u001b[39m(error\u001b[38;5;241m*\u001b[39mtmp_array\u001b[38;5;241m/\u001b[39msqrt_len\u001b[38;5;241m-\u001b[39mlamb\u001b[38;5;241m*\u001b[39m\u001b[38;5;28;43mself\u001b[39;49m\u001b[38;5;241;43m.\u001b[39;49m\u001b[43mitem_hidden\u001b[49m\u001b[43m[\u001b[49m\u001b[43mitem_list\u001b[49m\u001b[43m]\u001b[49m)\n",
      "\u001b[1;31mKeyboardInterrupt\u001b[0m: "
     ]
    }
   ],
   "source": [
    "svdpp_train(train,test,set_users,set_items,20,5e-4,3,0.02)"
   ]
  },
  {
   "cell_type": "code",
   "execution_count": 1,
   "id": "cb0e5cec",
   "metadata": {},
   "outputs": [
    {
     "ename": "NameError",
     "evalue": "name 'np' is not defined",
     "output_type": "error",
     "traceback": [
      "\u001b[1;31m---------------------------------------------------------------------------\u001b[0m",
      "\u001b[1;31mNameError\u001b[0m                                 Traceback (most recent call last)",
      "Cell \u001b[1;32mIn[1], line 1\u001b[0m\n\u001b[1;32m----> 1\u001b[0m a\u001b[38;5;241m=\u001b[39m\u001b[43mnp\u001b[49m\u001b[38;5;241m.\u001b[39marray([\u001b[38;5;241m1\u001b[39m,\u001b[38;5;241m2\u001b[39m,\u001b[38;5;241m3\u001b[39m])\n\u001b[0;32m      2\u001b[0m b\u001b[38;5;241m=\u001b[39mnp\u001b[38;5;241m.\u001b[39marray([\u001b[38;5;241m4\u001b[39m,\u001b[38;5;241m5\u001b[39m,\u001b[38;5;241m6\u001b[39m])\n\u001b[0;32m      3\u001b[0m \u001b[38;5;28mprint\u001b[39m(a\u001b[38;5;129m@b\u001b[39m)\n",
      "\u001b[1;31mNameError\u001b[0m: name 'np' is not defined"
     ]
    }
   ],
   "source": [
    "a=np.array([1,2,3])\n",
    "b=np.array([4,5,6])\n",
    "print(a@b)"
   ]
  },
  {
   "cell_type": "code",
   "execution_count": 6,
   "id": "63003293",
   "metadata": {},
   "outputs": [
    {
     "ename": "TypeError",
     "evalue": "list indices must be integers or slices, not list",
     "output_type": "error",
     "traceback": [
      "\u001b[1;31m---------------------------------------------------------------------------\u001b[0m",
      "\u001b[1;31mTypeError\u001b[0m                                 Traceback (most recent call last)",
      "Cell \u001b[1;32mIn[6], line 4\u001b[0m\n\u001b[0;32m      2\u001b[0m mydict[\u001b[38;5;241m0\u001b[39m]\u001b[38;5;241m=\u001b[39m[\u001b[38;5;241m1\u001b[39m, \u001b[38;5;241m2\u001b[39m,\u001b[38;5;241m3\u001b[39m,\u001b[38;5;241m4\u001b[39m,\u001b[38;5;241m5\u001b[39m]\n\u001b[0;32m      3\u001b[0m y\u001b[38;5;241m=\u001b[39m[[\u001b[38;5;241m1\u001b[39m,\u001b[38;5;241m2\u001b[39m,\u001b[38;5;241m3\u001b[39m,\u001b[38;5;241m4\u001b[39m,\u001b[38;5;241m5\u001b[39m],[\u001b[38;5;241m1\u001b[39m,\u001b[38;5;241m2\u001b[39m,\u001b[38;5;241m3\u001b[39m,\u001b[38;5;241m4\u001b[39m,\u001b[38;5;241m5\u001b[39m],[\u001b[38;5;241m1\u001b[39m,\u001b[38;5;241m2\u001b[39m,\u001b[38;5;241m3\u001b[39m,\u001b[38;5;241m4\u001b[39m,\u001b[38;5;241m5\u001b[39m],[\u001b[38;5;241m1\u001b[39m,\u001b[38;5;241m2\u001b[39m,\u001b[38;5;241m3\u001b[39m,\u001b[38;5;241m4\u001b[39m,\u001b[38;5;241m5\u001b[39m],[\u001b[38;5;241m1\u001b[39m,\u001b[38;5;241m2\u001b[39m,\u001b[38;5;241m3\u001b[39m,\u001b[38;5;241m4\u001b[39m,\u001b[38;5;241m5\u001b[39m]]\n\u001b[1;32m----> 4\u001b[0m \u001b[38;5;28mprint\u001b[39m(\u001b[43my\u001b[49m\u001b[43m[\u001b[49m\u001b[43mmydict\u001b[49m\u001b[43m[\u001b[49m\u001b[38;5;241;43m0\u001b[39;49m\u001b[43m]\u001b[49m\u001b[43m]\u001b[49m)\n",
      "\u001b[1;31mTypeError\u001b[0m: list indices must be integers or slices, not list"
     ]
    }
   ],
   "source": [
    "mydict={}\n",
    "mydict[0]=[1, 2,3,4,5]\n",
    "y=[[1,2,3,4,5],[1,2,3,4,5],[1,2,3,4,5],[1,2,3,4,5],[1,2,3,4,5]]\n",
    "print(y[mydict[0]])"
   ]
  },
  {
   "cell_type": "code",
   "execution_count": 20,
   "id": "67c1eda0",
   "metadata": {},
   "outputs": [
    {
     "name": "stdout",
     "output_type": "stream",
     "text": [
      "[[1 2]\n",
      " [5 6]]\n",
      "[3. 4.]\n"
     ]
    }
   ],
   "source": [
    "import numpy as np\n",
    "arr = np.array([[1, 2], [3, 4], [5, 6]])\n",
    "idx = [0, 2]\n",
    "result = arr[idx]\n",
    "print(result)\n",
    "print(np.mean(arr[idx],axis=0))"
   ]
  },
  {
   "cell_type": "code",
   "execution_count": 11,
   "id": "26bb401a",
   "metadata": {},
   "outputs": [
    {
     "name": "stdout",
     "output_type": "stream",
     "text": [
      "[[1 2 3]\n",
      " [4 5 6]\n",
      " [7 8 9]]\n"
     ]
    }
   ],
   "source": [
    "mydict=dict()\n",
    "mydict[0]=[1,2,3]\n",
    "mydict[1]=[4,5,6]\n",
    "mydict[2]=[7,8,9]\n",
    "\n",
    "carray=[value for key,value in mydict.items()]\n",
    "x=np.array(carray)\n",
    "print(x)\n"
   ]
  },
  {
   "cell_type": "code",
   "execution_count": 4,
   "id": "2abdd61e",
   "metadata": {},
   "outputs": [
    {
     "name": "stdout",
     "output_type": "stream",
     "text": [
      "[[4 5 6]\n",
      " [7 8 9]]\n"
     ]
    }
   ],
   "source": [
    "import numpy as np\n",
    "\n",
    "my_array = np.array([[1, 2, 3], [4, 5, 6], [7, 8, 9]])\n",
    "\n",
    "mylist=[1,2]\n",
    "print(my_array[mylist])"
   ]
  }
 ],
 "metadata": {
  "kernelspec": {
   "display_name": "Python 3 (ipykernel)",
   "language": "python",
   "name": "python3"
  },
  "language_info": {
   "codemirror_mode": {
    "name": "ipython",
    "version": 3
   },
   "file_extension": ".py",
   "mimetype": "text/x-python",
   "name": "python",
   "nbconvert_exporter": "python",
   "pygments_lexer": "ipython3",
   "version": "3.8.16"
  }
 },
 "nbformat": 4,
 "nbformat_minor": 5
}
